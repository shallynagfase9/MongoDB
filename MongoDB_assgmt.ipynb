{
  "nbformat": 4,
  "nbformat_minor": 0,
  "metadata": {
    "colab": {
      "provenance": [],
      "authorship_tag": "ABX9TyOL8G9oxmV1wxZkrrtQcv0u",
      "include_colab_link": true
    },
    "kernelspec": {
      "name": "python3",
      "display_name": "Python 3"
    },
    "language_info": {
      "name": "python"
    }
  },
  "cells": [
    {
      "cell_type": "markdown",
      "metadata": {
        "id": "view-in-github",
        "colab_type": "text"
      },
      "source": [
        "<a href=\"https://colab.research.google.com/github/shallynagfase9/MongoDB/blob/main/MongoDB_assgmt.ipynb\" target=\"_parent\"><img src=\"https://colab.research.google.com/assets/colab-badge.svg\" alt=\"Open In Colab\"/></a>"
      ]
    },
    {
      "cell_type": "code",
      "execution_count": null,
      "metadata": {
        "id": "JztUIdkh6Cvx"
      },
      "outputs": [],
      "source": [
        "# Q1. What is MongoDB? Explain non-relational databases in short. In which scenarios it is preferred to use MongoDB over SQL databases?\n",
        "'''\n",
        "MongoDB is a non-relational database that offers scalability, high performance, reliability, and flexibility.\n",
        "It stores data in collections as BSON documents, which are JSON-like in structure, allowing for high flexibility.\n",
        "Non-relational databases, also known as NoSQL databases, do not use the tabular structure of traditional relational databases.\n",
        "They are more flexible and scalable, making them suitable for a wide range of use cases, such as storing settings in an app or handling large and diverse data sets.\n",
        "They are preferred over SQL databases in scenarios where the data needs to be flexible in terms of shape or size, or when it needs to be open to change in the future.\n",
        "NoSQL databases are also well-suited for applications that require high performance and scalability, such as web applications and mobile apps\n",
        "\n",
        "In summary, MongoDB is a document database that falls under the category of non-relational databases.\n",
        "Non-relational databases, including MongoDB, are preferred in scenarios where data needs to be flexible, scalable, and open to change, making them suitable\n",
        "for a wide range of use cases, such as web applications, mobile apps, and handling large and diverse data sets.\n",
        "'''"
      ]
    },
    {
      "cell_type": "code",
      "source": [
        "# Q2. State and Explain the features of MongoDB.\n",
        "'''\n",
        "MongoDB is a document-oriented NoSQL database platform that provides numerous important features, including:\n",
        "Document Model: MongoDB stores data in collections as BSON documents, which are JSON-like in structure, allowing for high flexibility.\n",
        "Sharding: MongoDB provides horizontal scalability with the help of sharding, which distributes data on multiple servers.\n",
        "Replication: MongoDB provides high availability and redundancy with the help of replication, which creates multiple copies of the data and sends these copies to different servers.\n",
        "Indexing: MongoDB indexes every field in the documents with primary and secondary indices, making it easier and faster to retrieve data.\n",
        "Ad-Hoc Queries: MongoDB supports ad-hoc queries for optimized, real-time analytics.\n",
        "Aggregation: MongoDB allows performing operations on the grouped data and getting a single result or computed result.\n",
        "Scalability: MongoDB supports vertical and horizontal scaling, making it a useful database for companies running big data applications.\n",
        "Schema-less Database: MongoDB is a schema-less database, meaning that it can consist of different types of documents in a single collection, providing great flexibility to databases.\n",
        "MongoDB is preferred over SQL databases in scenarios where data needs to be flexible in terms of shape or size, or when it needs to be open to change in the future.\n",
        "\n",
        "MongoDB is also well-suited for applications that require high performance and scalability, such as web applications and mobile apps.\n",
        "'''"
      ],
      "metadata": {
        "id": "Enmoky5X6lcE"
      },
      "execution_count": null,
      "outputs": []
    },
    {
      "cell_type": "code",
      "source": [
        "# Q3. Write a code to connect MongoDB to Python. Also, create a database and a collection in MongoDB.\n",
        "'''\n",
        "To connect MongoDB to Python, you need to install the pymongo driver, which is the official MongoDB driver for Python.\n",
        "Here is an example code to connect to MongoDB and create a database and a collection:\n",
        "\n",
        "import pymongo\n",
        "client = pymongo.MongoClient(\"mongodb://localhost:27017/\")\n",
        "db = client[\"mydatabase\"]\n",
        "collection = db[\"mycollection\"]\n",
        "\n",
        "The cursor() method is not used in MongoDB, as MongoDB is a document-oriented database and does not use SQL.\n",
        "Instead, we use the pymongo driver to interact with MongoDB using Python\n",
        "\n",
        "\n",
        "'''"
      ],
      "metadata": {
        "id": "W3IqSD5O65TZ"
      },
      "execution_count": null,
      "outputs": []
    },
    {
      "cell_type": "code",
      "source": [
        "# Q4. Using the database and the collection created in question number 3, write a code to insert one record, and insert many records. Use the find() and find_one() methods to print the inserted record.\n",
        "'''\n",
        "import pymongo\n",
        "client = pymongo.MongoClient(\"mongodb://localhost:27017/\")\n",
        "db = client[\"mydatabase\"]\n",
        "collection = db[\"mycollection\"]\n",
        "\n",
        "record = {\"name\": \"John\", \"age\": 30}\n",
        "collection.insert_one(record)\n",
        "\n",
        "records = [\n",
        "    {\"name\": \"Jane\", \"age\": 25},\n",
        "    {\"name\": \"Bob\", \"age\": 40},\n",
        "    {\"name\": \"Alice\", \"age\": 35}\n",
        "]\n",
        "collection.insert_many(records)\n",
        "\n",
        "result = collection.find_one({\"name\": \"John\"})\n",
        "print(result)\n",
        "\n",
        "results = collection.find()\n",
        "for result in results:\n",
        "    print(result)\n",
        "'''"
      ],
      "metadata": {
        "id": "c9gw45T87WHR"
      },
      "execution_count": null,
      "outputs": []
    },
    {
      "cell_type": "code",
      "source": [
        "# Q5. Explain how you can use the find() method to query the MongoDB database. Write a simple code to demonstrate this.\n",
        "'''\n",
        "import pymongo\n",
        "client = pymongo.MongoClient(\"mongodb://localhost:27017/\")\n",
        "db = client[\"mydatabase\"]\n",
        "collection = db[\"mycollection\"]\n",
        "\n",
        "data = [\n",
        "    {\"name\": \"Alice\", \"age\": 25},\n",
        "    {\"name\": \"Bob\", \"age\": 30},\n",
        "    {\"name\": \"Charlie\", \"age\": 35}\n",
        "]\n",
        "collection.insert_many(data)\n",
        "\n",
        "all_documents = collection.find()\n",
        "for doc in all_documents:\n",
        "    print(doc)\n",
        "\n",
        "query_result = collection.find({\"age\": {\"$gt\": 25}})\n",
        "for doc in query_result:\n",
        "    print(doc)\n",
        "'''"
      ],
      "metadata": {
        "id": "oTCYhXzU7wHT"
      },
      "execution_count": null,
      "outputs": []
    },
    {
      "cell_type": "code",
      "source": [
        "# Q6. Explain the sort() method. Give an example to demonstrate sorting in MongoDB.\n",
        "'''\n",
        "The sort() method in MongoDB is used to sort the documents in a collection based on one or more fields.\n",
        "It takes a document as a parameter that contains a field-value pair that defines the sort order of the result set.\n",
        "\n",
        "import pymongo\n",
        "client = pymongo.MongoClient(\"mongodb://localhost:27017/\")\n",
        "db = client[\"mydatabase\"]\n",
        "collection = db[\"mycollection\"]\n",
        "\n",
        "data = [\n",
        "    {\"name\": \"Alice\", \"age\": 25},\n",
        "    {\"name\": \"Bob\", \"age\": 30},\n",
        "    {\"name\": \"Charlie\", \"age\": 35}\n",
        "]\n",
        "collection.insert_many(data)\n",
        "\n",
        "result = collection.find().sort(\"age\")\n",
        "for doc in result:\n",
        "    print(doc)\n",
        "result = collection.find().sort(\"name\", -1)\n",
        "for doc in result:\n",
        "    print(doc)\n",
        "'''"
      ],
      "metadata": {
        "id": "wNsxMdJB8BhI"
      },
      "execution_count": null,
      "outputs": []
    },
    {
      "cell_type": "code",
      "source": [
        "# Q7. Explain why delete_one(), delete_many(), and drop() is used.\n",
        "'''\n",
        "The delete_one(), delete_many(), and drop() methods are used in MongoDB to delete documents or collections from a database.\n",
        "1. delete_one() method is used to delete a single document that matches the specified filter. If multiple documents match the filter, only the first document will be deleted.\n",
        "2. delete_many() method is used to delete multiple documents that match the specified filter.\n",
        "3. drop() method is used to delete an entire collection from a database.\n",
        "'''"
      ],
      "metadata": {
        "id": "9h2gUuIw8a1D"
      },
      "execution_count": null,
      "outputs": []
    }
  ]
}